{
 "cells": [
  {
   "cell_type": "code",
   "execution_count": 1,
   "metadata": {},
   "outputs": [],
   "source": [
    "import pandas as pd\n",
    "import numpy as np"
   ]
  },
  {
   "cell_type": "code",
   "execution_count": 2,
   "metadata": {},
   "outputs": [
    {
     "data": {
      "text/html": [
       "<div>\n",
       "<style scoped>\n",
       "    .dataframe tbody tr th:only-of-type {\n",
       "        vertical-align: middle;\n",
       "    }\n",
       "\n",
       "    .dataframe tbody tr th {\n",
       "        vertical-align: top;\n",
       "    }\n",
       "\n",
       "    .dataframe thead th {\n",
       "        text-align: right;\n",
       "    }\n",
       "</style>\n",
       "<table border=\"1\" class=\"dataframe\">\n",
       "  <thead>\n",
       "    <tr style=\"text-align: right;\">\n",
       "      <th></th>\n",
       "      <th>Q1</th>\n",
       "      <th>Q2_1</th>\n",
       "      <th>Q2_2</th>\n",
       "      <th>Q2_3</th>\n",
       "      <th>Q3</th>\n",
       "      <th>Q4</th>\n",
       "      <th>Q5</th>\n",
       "      <th>Q6</th>\n",
       "    </tr>\n",
       "  </thead>\n",
       "  <tbody>\n",
       "    <tr>\n",
       "      <th>0</th>\n",
       "      <td>尊重</td>\n",
       "      <td>尊重</td>\n",
       "      <td>无条件的爱</td>\n",
       "      <td>陪伴</td>\n",
       "      <td>做好吃的饭菜</td>\n",
       "      <td>偷看我的日记</td>\n",
       "      <td>没有</td>\n",
       "      <td>没有</td>\n",
       "    </tr>\n",
       "    <tr>\n",
       "      <th>1</th>\n",
       "      <td>宽容</td>\n",
       "      <td>能打人</td>\n",
       "      <td>宽容</td>\n",
       "      <td>大度</td>\n",
       "      <td>听取我们每个人的意见</td>\n",
       "      <td>无缘无故打人</td>\n",
       "      <td>嗓门小点</td>\n",
       "      <td>更多接受新的转变</td>\n",
       "    </tr>\n",
       "    <tr>\n",
       "      <th>2</th>\n",
       "      <td>Freedom</td>\n",
       "      <td>Respect</td>\n",
       "      <td>permissive parenting</td>\n",
       "      <td>understanding</td>\n",
       "      <td>买沈石溪的书</td>\n",
       "      <td>Don’t care about my emotional life</td>\n",
       "      <td>Be responsible</td>\n",
       "      <td>打人下手轻点</td>\n",
       "    </tr>\n",
       "    <tr>\n",
       "      <th>3</th>\n",
       "      <td>自由</td>\n",
       "      <td>聊得来</td>\n",
       "      <td>不管着我</td>\n",
       "      <td>赶时髦</td>\n",
       "      <td>They don’t limit my thinkings</td>\n",
       "      <td>没有兴趣爱好方面的交流</td>\n",
       "      <td>支持我的兴趣爱好</td>\n",
       "      <td>Nothing</td>\n",
       "    </tr>\n",
       "    <tr>\n",
       "      <th>4</th>\n",
       "      <td>无条件的爱</td>\n",
       "      <td>善良</td>\n",
       "      <td>有责任感</td>\n",
       "      <td>有孝心</td>\n",
       "      <td>给我很多自由</td>\n",
       "      <td>互相发脾气</td>\n",
       "      <td>脾气</td>\n",
       "      <td>支持我的兴趣爱好</td>\n",
       "    </tr>\n",
       "  </tbody>\n",
       "</table>\n",
       "</div>"
      ],
      "text/plain": [
       "        Q1     Q2_1                  Q2_2           Q2_3  \\\n",
       "0       尊重       尊重                 无条件的爱             陪伴   \n",
       "1       宽容      能打人                    宽容             大度   \n",
       "2  Freedom  Respect  permissive parenting  understanding   \n",
       "3       自由      聊得来                  不管着我            赶时髦   \n",
       "4    无条件的爱       善良                  有责任感            有孝心   \n",
       "\n",
       "                              Q3                                  Q4  \\\n",
       "0                         做好吃的饭菜                              偷看我的日记   \n",
       "1                     听取我们每个人的意见                              无缘无故打人   \n",
       "2                         买沈石溪的书  Don’t care about my emotional life   \n",
       "3  They don’t limit my thinkings                         没有兴趣爱好方面的交流   \n",
       "4                         给我很多自由                               互相发脾气   \n",
       "\n",
       "               Q5        Q6  \n",
       "0              没有        没有  \n",
       "1            嗓门小点  更多接受新的转变  \n",
       "2  Be responsible    打人下手轻点  \n",
       "3        支持我的兴趣爱好   Nothing  \n",
       "4              脾气  支持我的兴趣爱好  "
      ]
     },
     "execution_count": 2,
     "metadata": {},
     "output_type": "execute_result"
    }
   ],
   "source": [
    "df_new=pd.read_excel('data_new.xlsx')\n",
    "df_new.head(n=5)"
   ]
  },
  {
   "cell_type": "code",
   "execution_count": 3,
   "metadata": {},
   "outputs": [
    {
     "data": {
      "text/plain": [
       "0             尊重\n",
       "1             宽容\n",
       "2        Freedom\n",
       "3             自由\n",
       "4          无条件的爱\n",
       "         ...    \n",
       "69            尊重\n",
       "70         平等 尊重\n",
       "71            尊重\n",
       "72            理解\n",
       "73    尊重，fashion\n",
       "Name: Q1, Length: 74, dtype: object"
      ]
     },
     "execution_count": 3,
     "metadata": {},
     "output_type": "execute_result"
    }
   ],
   "source": [
    "df_Q1=df_new.iloc[:,0]\n",
    "df_Q1"
   ]
  },
  {
   "cell_type": "code",
   "execution_count": 4,
   "metadata": {},
   "outputs": [
    {
     "data": {
      "text/plain": [
       "0                Respect\n",
       "1            Forgiveness\n",
       "2            Open-minded\n",
       "3            Open-minded\n",
       "4     Unconditional love\n",
       "             ...        \n",
       "69               Respect\n",
       "70               Respect\n",
       "71               Respect\n",
       "72         Understanding\n",
       "73               Respect\n",
       "Name: Q1, Length: 74, dtype: object"
      ]
     },
     "execution_count": 4,
     "metadata": {},
     "output_type": "execute_result"
    }
   ],
   "source": [
    "df_Q1[df_Q1.str.contains('尊重')]='Respect'\n",
    "df_Q1[df_Q1.str.contains('respect')]='Respect'\n",
    "df_Q1[df_Q1.str.contains('Respect')]='Respect'\n",
    "df_Q1[df_Q1.str.contains('equality')]='Respect'\n",
    "df_Q1[df_Q1.str.contains('Equality')]='Respect'\n",
    "df_Q1[df_Q1.str.contains('平等')]='Respect'\n",
    "\n",
    "\n",
    "df_Q1[df_Q1.str.contains('宽容')]='Forgiveness'\n",
    "df_Q1[df_Q1.str.contains('大量')]='Forgiveness'\n",
    "df_Q1[df_Q1.str.contains('原谅')]='Forgiveness'\n",
    "df_Q1[df_Q1.str.contains('forgiveness')]='Forgiveness'\n",
    "\n",
    "df_Q1[df_Q1.str.contains('开明')]='Open-minded'\n",
    "df_Q1[df_Q1.str.contains('不封建')]='Open-minded'\n",
    "df_Q1[df_Q1.str.contains('开放')]='Open-minded'\n",
    "df_Q1[df_Q1.str.contains('自由')]='Open-minded'\n",
    "df_Q1[df_Q1.str.contains('游戏')]='Open-minded'\n",
    "df_Q1[df_Q1.str.contains('Freedom')]='Open-minded'\n",
    "df_Q1[df_Q1.str.contains('open minded')]='Open-minded'\n",
    "df_Q1[df_Q1.str.contains('Open minded')]='Open-minded'\n",
    "\n",
    "df_Q1[df_Q1.str.contains('Understanding')]='Understanding'\n",
    "df_Q1[df_Q1.str.contains('understanding')]='Understanding'\n",
    "df_Q1[df_Q1.str.contains('理解')]='Understanding'\n",
    "df_Q1[df_Q1.str.contains('换位思考')]='Understanding'\n",
    "df_Q1[df_Q1.str.contains('善解人意')]='Understanding'\n",
    "df_Q1[df_Q1.str.contains('acceptance')]='Understanding'\n",
    "\n",
    "df_Q1[df_Q1.str.contains('爱')]='Unconditional love'\n",
    "df_Q1[df_Q1.str.contains('love')]='Unconditional love'\n",
    "df_Q1[df_Q1.str.contains('Love')]='Unconditional love'\n",
    "df_Q1[df_Q1.str.contains('contributive')]='Unconditional love'\n",
    "df_Q1[df_Q1.str.contains('Contributive')]='Unconditional love'\n",
    "df_Q1[df_Q1.str.contains('sacrifice')]='Unconditional love'\n",
    "df_Q1[df_Q1.str.contains('Sacrifice')]='Unconditional love'\n",
    "df_Q1[df_Q1.str.contains('caring')]='Unconditional love'\n",
    "df_Q1[df_Q1.str.contains('Caring')]='Unconditional love'\n",
    "df_Q1[df_Q1.str.contains('关爱')]='Unconditional love'\n",
    "\n",
    "df_Q1[df_Q1.str.contains('Cool')]='Fashion'\n",
    "df_Q1[df_Q1.str.contains('cool')]='Fashion'\n",
    "df_Q1[df_Q1.str.contains('帅')]='Fashion'\n",
    "df_Q1[df_Q1.str.contains('handsome')]='Fashion'\n",
    "df_Q1[df_Q1.str.contains('Handsome')]='Fashion'\n",
    "df_Q1[df_Q1.str.contains('辣')]='Fashion'\n",
    "df_Q1[df_Q1.str.contains('美')]='Fashion'\n",
    "df_Q1[df_Q1.str.contains('时尚')]='Fashion'\n",
    "df_Q1[df_Q1.str.contains('时髦')]='Fashion'\n",
    "df_Q1[df_Q1.str.contains('fashional')]='Fashion'\n",
    "df_Q1[df_Q1.str.contains('Fashional')]='Fashion'\n",
    "df_Q1[df_Q1.str.contains('fashion')]='Fashion'\n",
    "df_Q1[df_Q1.str.contains('Fashion')]='Fashion'\n",
    "\n",
    "df_Q1[df_Q1.str.contains('guide')]='Wise'\n",
    "df_Q1[df_Q1.str.contains('Guide')]='Wise'\n",
    "df_Q1[df_Q1.str.contains('Wise')]='Wise'\n",
    "df_Q1[df_Q1.str.contains('wise')]='Wise'\n",
    "df_Q1[df_Q1.str.contains('引导')]='Wise'\n",
    "df_Q1[df_Q1.str.contains('睿智')]='Wise'\n",
    "df_Q1[df_Q1.str.contains('教导')]='Wise'\n",
    "\n",
    "df_Q1[df_Q1.str.contains('支持')]='Supportive'\n",
    "df_Q1[df_Q1.str.contains('后盾')]='Supportive'\n",
    "df_Q1[df_Q1.str.contains('support')]='Supportive'\n",
    "df_Q1[df_Q1.str.contains('Support')]='Supportive'\n",
    "df_Q1[df_Q1.str.contains('give')]='Supportive'\n",
    "df_Q1[df_Q1.str.contains('Give')]='Supportive'\n",
    "\n",
    "\n",
    "df_Q1[df_Q1.str.contains('Honest')]='Integrity'\n",
    "df_Q1[df_Q1.str.contains('honest')]='Integrity'\n",
    "df_Q1[df_Q1.str.contains('Integrity')]='Integrity'\n",
    "df_Q1[df_Q1.str.contains('integrity')]='Integrity'\n",
    "df_Q1[df_Q1.str.contains('诚实')]='Integrity'\n",
    "df_Q1[df_Q1.str.contains('诚信')]='Integrity'\n",
    "\n",
    "df_Q1[df_Q1.str.contains('patient')]='Patient'\n",
    "df_Q1[df_Q1.str.contains('Patient')]='Patient'\n",
    "df_Q1[df_Q1.str.contains('耐心')]='Patient'\n",
    "df_Q1[df_Q1.str.contains('耐性')]='Patient'\n",
    "\n",
    "df_Q1[df_Q1.str.contains('朋友')]='Cheerful'\n",
    "df_Q1[df_Q1.str.contains('friendship')]='Cheerful'\n",
    "df_Q1[df_Q1.str.contains('Friendship')]='Cheerful'\n",
    "df_Q1[df_Q1.str.contains('开朗')]='Cheerful'\n",
    "df_Q1[df_Q1.str.contains('随和')]='Cheerful'\n",
    "df_Q1[df_Q1.str.contains('游戏')]='Cheerful'\n",
    "df_Q1[df_Q1.str.contains('亲切')]='Cheerful'\n",
    "\n",
    "df_Q1[df_Q1.str.contains('责任')]='Responsible'\n",
    "df_Q1[df_Q1.str.contains('孝心')]='Responsible'\n",
    "df_Q1[df_Q1.str.contains('担当')]='Responsible'\n",
    "df_Q1[df_Q1.str.contains('Responsible')]='Responsible'\n",
    "df_Q1[df_Q1.str.contains('responsible')]='Responsible'\n",
    "\n",
    "\n",
    "\n",
    "df_Q1[(df_Q1!= 'Respect') & (df_Q1!= 'Unconditional love') & (df_Q1!= 'Understanding') & (df_Q1!='Supportive') & (df_Q1!='Forgiveness') & (df_Q1!='Open-minded') & (df_Q1!='Wise') & (df_Q1!='Integrity') & (df_Q1!='Cheerful') & (df_Q1!='Patient') & (df_Q1!='Responsible')] = 'Others'\n",
    "df_Q1"
   ]
  },
  {
   "cell_type": "code",
   "execution_count": 5,
   "metadata": {},
   "outputs": [
    {
     "data": {
      "text/plain": [
       "<matplotlib.axes._subplots.AxesSubplot at 0x7ff8abb4f690>"
      ]
     },
     "execution_count": 5,
     "metadata": {},
     "output_type": "execute_result"
    },
    {
     "data": {
      "image/png": "[encoded data removed]",
      "text/plain": [
       "<Figure size 432x288 with 1 Axes>"
      ]
     },
     "metadata": {
      "needs_background": "light"
     },
     "output_type": "display_data"
    }
   ],
   "source": [
    "import matplotlib.pyplot as plt\n",
    "\n",
    "data1 = df_Q1\n",
    "fig, ax = plt.subplots()\n",
    "data1.value_counts().plot(ax=ax, kind='bar')"
   ]
  },
  {
   "cell_type": "code",
   "execution_count": 6,
   "metadata": {},
   "outputs": [
    {
     "data": {
      "text/plain": [
       "0               尊重\n",
       "1              能打人\n",
       "2          Respect\n",
       "3              聊得来\n",
       "4               善良\n",
       "          ...     \n",
       "216         money \n",
       "218            不出轨\n",
       "219      愿意尊重孩子的想法\n",
       "220             博爱\n",
       "221    给孩子足够的自由和人权\n",
       "Name: 0, Length: 207, dtype: object"
      ]
     },
     "execution_count": 6,
     "metadata": {},
     "output_type": "execute_result"
    }
   ],
   "source": [
    "df_Q2 = np.concatenate([df_new.Q2_1.values,df_new.Q2_2.values,df_new.Q2_3.values])\n",
    "df_Q2 = pd.DataFrame(df_Q2)\n",
    "df_Q2 = df_Q2.iloc[:,0]\n",
    "df_Q2.dropna(inplace=True)\n",
    "df_Q2"
   ]
  },
  {
   "cell_type": "code",
   "execution_count": 7,
   "metadata": {},
   "outputs": [
    {
     "data": {
      "text/plain": [
       "0                 Respect\n",
       "1                  Others\n",
       "2                 Respect\n",
       "3                  Others\n",
       "4                  Others\n",
       "              ...        \n",
       "216                Others\n",
       "218             Integrity\n",
       "219               Respect\n",
       "220    Unconditional love\n",
       "221           Open-minded\n",
       "Name: 0, Length: 207, dtype: object"
      ]
     },
     "execution_count": 7,
     "metadata": {},
     "output_type": "execute_result"
    }
   ],
   "source": [
    "df_Q2[df_Q2.str.contains('尊重')]='Respect'\n",
    "df_Q2[df_Q2.str.contains('respect')]='Respect'\n",
    "df_Q2[df_Q2.str.contains('Respect')]='Respect'\n",
    "df_Q2[df_Q2.str.contains('equality')]='Respect'\n",
    "df_Q2[df_Q2.str.contains('Equality')]='Respect'\n",
    "df_Q2[df_Q2.str.contains('平等')]='Respect'\n",
    "df_Q2[df_Q2.str.contains('态度')]='Respect'\n",
    "\n",
    "\n",
    "df_Q2[df_Q2.str.contains('宽容')]='Forgiveness'\n",
    "df_Q2[df_Q2.str.contains('大量')]='Forgiveness'\n",
    "df_Q2[df_Q2.str.contains('原谅')]='Forgiveness'\n",
    "df_Q2[df_Q2.str.contains('forgiveness')]='Forgiveness'\n",
    "\n",
    "df_Q2[df_Q2.str.contains('开明')]='Open-minded'\n",
    "df_Q2[df_Q2.str.contains('不封建')]='Open-minded'\n",
    "df_Q2[df_Q2.str.contains('开放')]='Open-minded'\n",
    "df_Q2[df_Q2.str.contains('自由')]='Open-minded'\n",
    "df_Q2[df_Q2.str.contains('不管')]='Open-minded'\n",
    "df_Q2[df_Q2.str.contains('Freedom')]='Open-minded'\n",
    "df_Q2[df_Q2.str.contains('open minded')]='Open-minded'\n",
    "df_Q2[df_Q2.str.contains('Open minded')]='Open-minded'\n",
    "df_Q2[df_Q2.str.contains('阳光')]='Open-minded'\n",
    "df_Q2[df_Q2.str.contains('乐观')]='Open-minded'\n",
    "df_Q2[df_Q2.str.contains('洒脱')]='Open-minded'\n",
    "df_Q2[df_Q2.str.contains('交流')]='Open-minded'\n",
    "df_Q2[df_Q2.str.contains('Communication')]='Open-minded'\n",
    "df_Q2[df_Q2.str.contains('communication')]='Open-minded'\n",
    "df_Q2[df_Q2.str.contains('Game')]='Open-minded'\n",
    "df_Q2[df_Q2.str.contains('game')]='Open-minded'\n",
    "\n",
    "\n",
    "df_Q2[df_Q2.str.contains('Understanding')]='Understanding'\n",
    "df_Q2[df_Q2.str.contains('understanding')]='Understanding'\n",
    "df_Q2[df_Q2.str.contains('理解')]='Understanding'\n",
    "df_Q2[df_Q2.str.contains('换位思考')]='Understanding'\n",
    "df_Q2[df_Q2.str.contains('善解人意')]='Understanding'\n",
    "df_Q2[df_Q2.str.contains('acceptance')]='Understanding'\n",
    "\n",
    "df_Q2[df_Q2.str.contains('爱')]='Unconditional love'\n",
    "df_Q2[df_Q2.str.contains('love')]='Unconditional love'\n",
    "df_Q2[df_Q2.str.contains('Love')]='Unconditional love'\n",
    "df_Q2[df_Q2.str.contains('contributive')]='Unconditional love'\n",
    "df_Q2[df_Q2.str.contains('Contributive')]='Unconditional love'\n",
    "df_Q2[df_Q2.str.contains('sacrifice')]='Unconditional love'\n",
    "df_Q2[df_Q2.str.contains('Sacrifice')]='Unconditional love'\n",
    "df_Q2[df_Q2.str.contains('caring')]='Unconditional love'\n",
    "df_Q2[df_Q2.str.contains('Caring')]='Unconditional love'\n",
    "df_Q2[df_Q2.str.contains('关爱')]='Unconditional love'\n",
    "df_Q2[df_Q2.str.contains('无条件的爱')]='Unconditional love'\n",
    "\n",
    "df_Q2[df_Q2.str.contains('Cool')]='Fashion'\n",
    "df_Q2[df_Q2.str.contains('cool')]='Fashion'\n",
    "df_Q2[df_Q2.str.contains('帅')]='Fashion'\n",
    "df_Q2[df_Q2.str.contains('handsome')]='Fashion'\n",
    "df_Q2[df_Q2.str.contains('Handsome')]='Fashion'\n",
    "df_Q2[df_Q2.str.contains('辣')]='Fashion'\n",
    "df_Q2[df_Q2.str.contains('美')]='Fashion'\n",
    "df_Q2[df_Q2.str.contains('时尚')]='Fashion'\n",
    "df_Q2[df_Q2.str.contains('时髦')]='Fashion'\n",
    "df_Q2[df_Q2.str.contains('fashional')]='Fashion'\n",
    "df_Q2[df_Q2.str.contains('Fashional')]='Fashion'\n",
    "df_Q2[df_Q2.str.contains('fashion')]='Fashion'\n",
    "df_Q2[df_Q2.str.contains('Fashion')]='Fashion'\n",
    "\n",
    "df_Q2[df_Q2.str.contains('guide')]='Wise'\n",
    "df_Q2[df_Q2.str.contains('Guide')]='Wise'\n",
    "df_Q2[df_Q2.str.contains('Wise')]='Wise'\n",
    "df_Q2[df_Q2.str.contains('wise')]='Wise'\n",
    "df_Q2[df_Q2.str.contains('引导')]='Wise'\n",
    "df_Q2[df_Q2.str.contains('睿智')]='Wise'\n",
    "df_Q2[df_Q2.str.contains('教导')]='Wise'\n",
    "df_Q2[df_Q2.str.contains('不溺爱')]='Wise'\n",
    "df_Q2[df_Q2.str.contains('理性')]='Wise'\n",
    "\n",
    "\n",
    "df_Q2[df_Q2.str.contains('支持')]='Supportive'\n",
    "df_Q2[df_Q2.str.contains('后盾')]='Supportive'\n",
    "df_Q2[df_Q2.str.contains('support')]='Supportive'\n",
    "df_Q2[df_Q2.str.contains('Support')]='Supportive'\n",
    "\n",
    "df_Q2[df_Q2.str.contains('Honest')]='Integrity'\n",
    "df_Q2[df_Q2.str.contains('honest')]='Integrity'\n",
    "df_Q2[df_Q2.str.contains('Integrity')]='Integrity'\n",
    "df_Q2[df_Q2.str.contains('integrity')]='Integrity'\n",
    "df_Q2[df_Q2.str.contains('诚实')]='Integrity'\n",
    "df_Q2[df_Q2.str.contains('诚信')]='Integrity'\n",
    "df_Q2[df_Q2.str.contains('不出轨')]='Integrity'\n",
    "df_Q2[df_Q2.str.contains('忠诚')]='Integrity'\n",
    "\n",
    "\n",
    "df_Q2[df_Q2.str.contains('patient')]='Patient'\n",
    "df_Q2[df_Q2.str.contains('Patient')]='Patient'\n",
    "df_Q2[df_Q2.str.contains('耐心')]='Patient'\n",
    "df_Q2[df_Q2.str.contains('耐性')]='Patient'\n",
    "\n",
    "df_Q2[df_Q2.str.contains('朋友')]='Cheerful'\n",
    "df_Q2[df_Q2.str.contains('friendship')]='Cheerful'\n",
    "df_Q2[df_Q2.str.contains('Friendship')]='Cheerful'\n",
    "df_Q2[df_Q2.str.contains('开朗')]='Cheerful'\n",
    "df_Q2[df_Q2.str.contains('随和')]='Cheerful'\n",
    "df_Q2[df_Q2.str.contains('亲切')]='Cheerful'\n",
    "df_Q2[df_Q2.str.contains('有趣')]='Cheerful'\n",
    "df_Q2[df_Q2.str.contains('阳光')]='Cheerful'\n",
    "df_Q2[df_Q2.str.contains('Enjoy')]='Cheerful'\n",
    "df_Q2[df_Q2.str.contains('enjoy')]='Cheerful'\n",
    "\n",
    "\n",
    "df_Q2[df_Q2.str.contains('责任')]='Responsible'\n",
    "df_Q2[df_Q2.str.contains('孝心')]='Responsible'\n",
    "df_Q2[df_Q2.str.contains('担当')]='Responsible'\n",
    "df_Q2[df_Q2.str.contains('Responsible')]='Responsible'\n",
    "df_Q2[df_Q2.str.contains('responsible')]='Responsible'\n",
    "\n",
    "df_Q2[(df_Q2!= 'Respect') & (df_Q2!= 'Unconditional love') & (df_Q2!= 'Understanding') & (df_Q2!='Supportive') & (df_Q2!='Forgiveness') & (df_Q2!='Open-minded') & (df_Q2!='Wise') & (df_Q2!='Integrity') & (df_Q2!='Cheerful') & (df_Q2!='Patient') & (df_Q2!='Responsible')] = 'Others'\n",
    "df_Q2"
   ]
  },
  {
   "cell_type": "code",
   "execution_count": 8,
   "metadata": {},
   "outputs": [
    {
     "data": {
      "text/plain": [
       "<matplotlib.axes._subplots.AxesSubplot at 0x7ff8abe69f50>"
      ]
     },
     "execution_count": 8,
     "metadata": {},
     "output_type": "execute_result"
    },
    {
     "data": {
      "image/png": "[encoded data removed]",
      "text/plain": [
       "<Figure size 432x288 with 1 Axes>"
      ]
     },
     "metadata": {
      "needs_background": "light"
     },
     "output_type": "display_data"
    }
   ],
   "source": [
    "data2 = df_Q2\n",
    "fig, ax = plt.subplots()\n",
    "data2.value_counts().plot(ax=ax, kind='bar')"
   ]
  },
  {
   "cell_type": "code",
   "execution_count": 9,
   "metadata": {},
   "outputs": [
    {
     "data": {
      "text/plain": [
       "0                            做好吃的饭菜\n",
       "1                        听取我们每个人的意见\n",
       "2                            买沈石溪的书\n",
       "3     They don’t limit my thinkings\n",
       "4                            给我很多自由\n",
       "                  ...              \n",
       "69                        不逼我做不喜欢的事\n",
       "70                           尊重我的选择\n",
       "71                 当我注意到他们真的很在乎我的时候\n",
       "72                            无条件的爱\n",
       "73              made me independent\n",
       "Name: Q3, Length: 74, dtype: object"
      ]
     },
     "execution_count": 9,
     "metadata": {},
     "output_type": "execute_result"
    }
   ],
   "source": [
    "df_Q3=df_new.iloc[:,4]\n",
    "df_Q3"
   ]
  },
  {
   "cell_type": "code",
   "execution_count": 10,
   "metadata": {},
   "outputs": [
    {
     "data": {
      "text/plain": [
       "0     Provide me with food and money\n",
       "1                         Respect me\n",
       "2                             Others\n",
       "3                             Others\n",
       "4                     Leave me alone\n",
       "                   ...              \n",
       "69                            Others\n",
       "70                    Leave me alone\n",
       "71                Unconditional love\n",
       "72                Unconditional love\n",
       "73                            Others\n",
       "Name: Q3, Length: 74, dtype: object"
      ]
     },
     "execution_count": 10,
     "metadata": {},
     "output_type": "execute_result"
    }
   ],
   "source": [
    "df_Q3[df_Q3.str.contains('food')]='Provide me with food and money'\n",
    "df_Q3[df_Q3.str.contains('Food')]='Provide me with food and money'\n",
    "df_Q3[df_Q3.str.contains('money')]='Provide me with food and money'\n",
    "df_Q3[df_Q3.str.contains('Money')]='Provide me with food and money'\n",
    "df_Q3[df_Q3.str.contains('饭')]='Provide me with food and money'\n",
    "df_Q3[df_Q3.str.contains('飯')]='Provide me with food and money'\n",
    "df_Q3[df_Q3.str.contains('菜')]='Provide me with food and money'\n",
    "df_Q3[df_Q3.str.contains('零食')]='Provide me with food and money'\n",
    "\n",
    "df_Q3[df_Q3.str.contains('干预')]='Leave me alone'\n",
    "df_Q3[df_Q3.str.contains('干涉')]='Leave me alone'\n",
    "df_Q3[df_Q3.str.contains('自由')]='Leave me alone'\n",
    "df_Q3[df_Q3.str.contains('free')]='Leave me alone'\n",
    "df_Q3[df_Q3.str.contains('Free')]='Leave me alone'\n",
    "df_Q3[df_Q3.str.contains('选择')]='Leave me alone'\n",
    "df_Q3[df_Q3.str.contains('限制')]='Leave me alone'\n",
    "df_Q3[df_Q3.str.contains('约束')]='Leave me alone'\n",
    "df_Q3[df_Q3.str.contains('不管')]='Leave me alone'\n",
    "\n",
    "df_Q3[df_Q3.str.contains('尊重')]='Respect me'\n",
    "df_Q3[df_Q3.str.contains('强迫')]='Respect me'\n",
    "df_Q3[df_Q3.str.contains('听取')]='Respect me'\n",
    "df_Q3[df_Q3.str.contains('respect')]='Respect me'\n",
    "df_Q3[df_Q3.str.contains('allow')]='Respect me'\n",
    "df_Q3[df_Q3.str.contains('Allow')]='Respect me'\n",
    "df_Q3[df_Q3.str.contains('朋友')]='Respect me'\n",
    "df_Q3[df_Q3.str.contains('friend')]='Respect me'\n",
    "df_Q3[df_Q3.str.contains('Friend')]='Respect me'\n",
    "\n",
    "\n",
    "df_Q3[df_Q3.str.contains('陪伴')]='Keep me company'\n",
    "df_Q3[df_Q3.str.contains('一起')]='Keep me company'\n",
    "df_Q3[df_Q3.str.contains('Family')]='Keep me company'\n",
    "df_Q3[df_Q3.str.contains('together')]='Keep me company'\n",
    "df_Q3[df_Q3.str.contains('communica')]='Keep me company'\n",
    "df_Q3[df_Q3.str.contains('Communica')]='Keep me company'\n",
    "df_Q3[df_Q3.str.contains('沟通')]='Keep me company'\n",
    "\n",
    "\n",
    "\n",
    "df_Q3[df_Q3.str.contains('支持')]='Give me support'\n",
    "df_Q3[df_Q3.str.contains('support')]='Give me support'\n",
    "df_Q3[df_Q3.str.contains('Support')]='Give me support'\n",
    "df_Q3[df_Q3.str.contains('understand')]='Give me support'\n",
    "df_Q3[df_Q3.str.contains('Understand')]='Give me support'\n",
    "df_Q3[df_Q3.str.contains('理解')]='Give me support'\n",
    "\n",
    "\n",
    "df_Q3[df_Q3.str.contains('着想')]='Unconditional love'\n",
    "df_Q3[df_Q3.str.contains('关心')]='Unconditional love'\n",
    "df_Q3[df_Q3.str.contains('考虑')]='Unconditional love'\n",
    "df_Q3[df_Q3.str.contains('着想')]='Unconditional love'\n",
    "df_Q3[df_Q3.str.contains('在乎')]='Unconditional love'\n",
    "df_Q3[df_Q3.str.contains('无条件')]='Unconditional love'\n",
    "df_Q3[df_Q3.str.contains('Love')]='Unconditional love'\n",
    "df_Q3[df_Q3.str.contains('love')]='Unconditional love'\n",
    "df_Q3[df_Q3.str.contains('爱')]='Unconditional love'\n",
    "df_Q3[df_Q3.str.contains('包容')]='Unconditional love'\n",
    "\n",
    "df_Q3[(df_Q3!= 'Provide me with food and money') & (df_Q3!= 'Unconditional love') & (df_Q3!= 'Leave me alone') & (df_Q3!='Give me support') & (df_Q3!='Keep me company') & (df_Q3!='Respect me') ] = 'Others'\n",
    "\n",
    "df_Q3"
   ]
  },
  {
   "cell_type": "code",
   "execution_count": 11,
   "metadata": {},
   "outputs": [
    {
     "data": {
      "text/plain": [
       "<matplotlib.axes._subplots.AxesSubplot at 0x7ff8abff9250>"
      ]
     },
     "execution_count": 11,
     "metadata": {},
     "output_type": "execute_result"
    },
    {
     "data": {
      "image/png": "[encoded data removed]",
      "text/plain": [
       "<Figure size 432x288 with 1 Axes>"
      ]
     },
     "metadata": {
      "needs_background": "light"
     },
     "output_type": "display_data"
    }
   ],
   "source": [
    "data3 = df_Q3\n",
    "fig, ax = plt.subplots()\n",
    "data3.value_counts().plot(ax=ax, kind='bar')"
   ]
  },
  {
   "cell_type": "code",
   "execution_count": 12,
   "metadata": {},
   "outputs": [
    {
     "data": {
      "text/plain": [
       "0                                 偷看我的日记\n",
       "1                                 无缘无故打人\n",
       "2     Don’t care about my emotional life\n",
       "3                            没有兴趣爱好方面的交流\n",
       "4                                  互相发脾气\n",
       "                     ...                \n",
       "69                                    唠叨\n",
       "70                                   都喜欢\n",
       "71                     让我做他们想让我做但我却不喜欢的事\n",
       "72                                 过分干涉 \n",
       "73                      为我做决定，走他们认为的人生路 \n",
       "Name: Q4, Length: 74, dtype: object"
      ]
     },
     "execution_count": 12,
     "metadata": {},
     "output_type": "execute_result"
    }
   ],
   "source": [
    "df_Q4=df_new.iloc[:,5]\n",
    "df_Q4"
   ]
  },
  {
   "cell_type": "code",
   "execution_count": 13,
   "metadata": {},
   "outputs": [
    {
     "data": {
      "text/plain": [
       "0     Interfere excessively\n",
       "1                   Quarrel\n",
       "2                    Others\n",
       "3                    Others\n",
       "4                   Quarrel\n",
       "              ...          \n",
       "69             Keep nagging\n",
       "70                   Others\n",
       "71                   Others\n",
       "72    Interfere excessively\n",
       "73                   Others\n",
       "Name: Q4, Length: 74, dtype: object"
      ]
     },
     "execution_count": 13,
     "metadata": {},
     "output_type": "execute_result"
    }
   ],
   "source": [
    "df_Q4[df_Q4.str.contains('偷看')]='Interfere excessively'\n",
    "df_Q4[df_Q4.str.contains('干预')]='Interfere excessively'\n",
    "df_Q4[df_Q4.str.contains('干涉')]='Interfere excessively'\n",
    "df_Q4[df_Q4.str.contains('限制')]='Interfere excessively'\n",
    "df_Q4[df_Q4.str.contains('约束')]='Interfere excessively'\n",
    "df_Q4[df_Q4.str.contains('侵犯')]='Interfere excessively'\n",
    "df_Q4[df_Q4.str.contains('restrict')]='Interfere excessively'\n",
    "df_Q4[df_Q4.str.contains('按照')]='Interfere excessively'\n",
    "df_Q4[df_Q4.str.contains('不让')]='Interfere excessively'\n",
    "df_Q4[df_Q4.str.contains('让我做')]='Interfere excessively'\n",
    "df_Q4[df_Q4.str.contains('太为我')]='Interfere excessively'\n",
    "\n",
    "\n",
    "df_Q4[df_Q4.str.contains('发脾气')]='Quarrel'\n",
    "df_Q4[df_Q4.str.contains('吵架')]='Quarrel'\n",
    "df_Q4[df_Q4.str.contains('打')]='Quarrel'\n",
    "df_Q4[df_Q4.str.contains('quarrel')]='Quarrel'\n",
    "df_Q4[df_Q4.str.contains('Quarrel')]='Quarrel'\n",
    "\n",
    "\n",
    "df_Q4[df_Q4.str.contains('强迫')]='Coerce'\n",
    "df_Q4[df_Q4.str.contains('专政')]='Coerce'\n",
    "df_Q4[df_Q4.str.contains('强势')]='Coerce'\n",
    "df_Q4[df_Q4.str.contains('按照')]='Coerce'\n",
    "df_Q4[df_Q4.str.contains('controlling')]='Coerce'\n",
    "df_Q4[df_Q4.str.contains('force')]='Coerce'\n",
    "df_Q4[df_Q4.str.contains('逼我')]='Coerce'\n",
    "\n",
    "\n",
    "df_Q4[df_Q4.str.contains('执着')]='Close minded'\n",
    "df_Q4[df_Q4.str.contains('无条件反对')]='Close minded'\n",
    "df_Q4[df_Q4.str.contains('不承认')]='Close minded'\n",
    "df_Q4[df_Q4.str.contains('不听意见')]='Close minded'\n",
    "df_Q4[df_Q4.str.contains('close minded')]='Close minded'\n",
    "df_Q4[df_Q4.str.contains('不问是非')]='Close minded'\n",
    "df_Q4[df_Q4.str.contains('discipline')]='Close minded'\n",
    "df_Q4[df_Q4.str.contains('Discipline')]='Close minded'\n",
    "\n",
    "\n",
    "df_Q4[df_Q4.str.contains('碎碎念')]='Keep nagging'\n",
    "df_Q4[df_Q4.str.contains('逼逼')]='Keep nagging'\n",
    "df_Q4[df_Q4.str.contains('啰嗦')]='Keep nagging'\n",
    "df_Q4[df_Q4.str.contains('唠叨')]='Keep nagging'\n",
    "\n",
    "df_Q4[(df_Q4!= 'Interfere excessively') & (df_Q4!= 'Quarrel') & (df_Q4!= 'Coerce') & (df_Q4!='Close minded') & (df_Q4!='Keep nagging')] = 'Others'\n",
    "df_Q4"
   ]
  },
  {
   "cell_type": "code",
   "execution_count": 14,
   "metadata": {},
   "outputs": [
    {
     "data": {
      "text/plain": [
       "<matplotlib.axes._subplots.AxesSubplot at 0x7ff8ac0f84d0>"
      ]
     },
     "execution_count": 14,
     "metadata": {},
     "output_type": "execute_result"
    },
    {
     "data": {
      "image/png": "[encoded data removed]",
      "text/plain": [
       "<Figure size 432x288 with 1 Axes>"
      ]
     },
     "metadata": {
      "needs_background": "light"
     },
     "output_type": "display_data"
    }
   ],
   "source": [
    "data4 = df_Q4\n",
    "fig, ax = plt.subplots()\n",
    "data4.value_counts().plot(ax=ax, kind='bar')"
   ]
  }
 ],
 "metadata": {
  "kernelspec": {
   "display_name": "Python 3",
   "language": "python",
   "name": "python3"
  },
  "language_info": {
   "codemirror_mode": {
    "name": "ipython",
    "version": 3
   },
   "file_extension": ".py",
   "mimetype": "text/x-python",
   "name": "python",
   "nbconvert_exporter": "python",
   "pygments_lexer": "ipython3",
   "version": "3.7.6"
  },
  "toc": {
   "base_numbering": 1,
   "nav_menu": {},
   "number_sections": true,
   "sideBar": true,
   "skip_h1_title": false,
   "title_cell": "Table of Contents",
   "title_sidebar": "Contents",
   "toc_cell": false,
   "toc_position": {},
   "toc_section_display": true,
   "toc_window_display": false
  }
 },
 "nbformat": 4,
 "nbformat_minor": 4
}
