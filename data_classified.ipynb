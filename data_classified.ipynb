{
 "cells": [
  {
   "cell_type": "code",
   "execution_count": 2,
   "metadata": {},
   "outputs": [],
   "source": [
    "import pandas as pd\n",
    "import numpy as np"
   ]
  },
  {
   "cell_type": "code",
   "execution_count": 3,
   "metadata": {},
   "outputs": [
    {
     "data": {
      "text/html": [
       "<div>\n",
       "<style scoped>\n",
       "    .dataframe tbody tr th:only-of-type {\n",
       "        vertical-align: middle;\n",
       "    }\n",
       "\n",
       "    .dataframe tbody tr th {\n",
       "        vertical-align: top;\n",
       "    }\n",
       "\n",
       "    .dataframe thead th {\n",
       "        text-align: right;\n",
       "    }\n",
       "</style>\n",
       "<table border=\"1\" class=\"dataframe\">\n",
       "  <thead>\n",
       "    <tr style=\"text-align: right;\">\n",
       "      <th></th>\n",
       "      <th>Q1</th>\n",
       "      <th>Q2_1</th>\n",
       "      <th>Q2_2</th>\n",
       "      <th>Q2_3</th>\n",
       "      <th>Q3</th>\n",
       "      <th>Q4</th>\n",
       "    </tr>\n",
       "  </thead>\n",
       "  <tbody>\n",
       "    <tr>\n",
       "      <th>0</th>\n",
       "      <td>Respect</td>\n",
       "      <td>Respect</td>\n",
       "      <td>Unconditional love</td>\n",
       "      <td>Unconditional love</td>\n",
       "      <td>Provide me with food and money</td>\n",
       "      <td>Interfere excessively</td>\n",
       "    </tr>\n",
       "    <tr>\n",
       "      <th>1</th>\n",
       "      <td>Forgiveness</td>\n",
       "      <td>能打人</td>\n",
       "      <td>Forgiveness</td>\n",
       "      <td>Forgiveness</td>\n",
       "      <td>Respect me</td>\n",
       "      <td>Quarrel</td>\n",
       "    </tr>\n",
       "    <tr>\n",
       "      <th>2</th>\n",
       "      <td>Open-minded</td>\n",
       "      <td>Respect</td>\n",
       "      <td>Open-minded</td>\n",
       "      <td>Understanding</td>\n",
       "      <td>Provide me with food and money</td>\n",
       "      <td>Don’t care about my emotional life</td>\n",
       "    </tr>\n",
       "    <tr>\n",
       "      <th>3</th>\n",
       "      <td>Open-minded</td>\n",
       "      <td>Cheerful</td>\n",
       "      <td>Open-minded</td>\n",
       "      <td>Fashion</td>\n",
       "      <td>Respect me</td>\n",
       "      <td>没有兴趣爱好方面的交流</td>\n",
       "    </tr>\n",
       "    <tr>\n",
       "      <th>4</th>\n",
       "      <td>Unconditional love</td>\n",
       "      <td>善良</td>\n",
       "      <td>Responsible</td>\n",
       "      <td>Responsible</td>\n",
       "      <td>Leave me alone</td>\n",
       "      <td>Quarrel</td>\n",
       "    </tr>\n",
       "  </tbody>\n",
       "</table>\n",
       "</div>"
      ],
      "text/plain": [
       "                   Q1      Q2_1                Q2_2                Q2_3  \\\n",
       "0             Respect   Respect  Unconditional love  Unconditional love   \n",
       "1         Forgiveness       能打人         Forgiveness         Forgiveness   \n",
       "2         Open-minded   Respect         Open-minded       Understanding   \n",
       "3         Open-minded  Cheerful         Open-minded             Fashion   \n",
       "4  Unconditional love        善良         Responsible         Responsible   \n",
       "\n",
       "                               Q3                                  Q4  \n",
       "0  Provide me with food and money               Interfere excessively  \n",
       "1                      Respect me                             Quarrel  \n",
       "2  Provide me with food and money  Don’t care about my emotional life  \n",
       "3                      Respect me                         没有兴趣爱好方面的交流  \n",
       "4                  Leave me alone                             Quarrel  "
      ]
     },
     "execution_count": 3,
     "metadata": {},
     "output_type": "execute_result"
    }
   ],
   "source": [
    "df=pd.read_excel('data_classified.xlsx')\n",
    "df=df.iloc[:,0:6]\n",
    "df.head(n=5)"
   ]
  },
  {
   "cell_type": "code",
   "execution_count": 4,
   "metadata": {},
   "outputs": [
    {
     "data": {
      "text/plain": [
       "0                Respect\n",
       "1            Forgiveness\n",
       "2            Open-minded\n",
       "3            Open-minded\n",
       "4     Unconditional love\n",
       "             ...        \n",
       "69               Respect\n",
       "70               Respect\n",
       "71               Respect\n",
       "72         Understanding\n",
       "73               Respect\n",
       "Name: Q1, Length: 74, dtype: object"
      ]
     },
     "execution_count": 4,
     "metadata": {},
     "output_type": "execute_result"
    }
   ],
   "source": [
    "df_Q1=df.iloc[:, 0]\n",
    "df_Q1[(df_Q1!= 'Respect') & (df_Q1!= 'Unconditional love') & (df_Q1!= 'Understanding') & (df_Q1!='Supportive') & (df_Q1!='Forgiveness') & (df_Q1!='Open-minded') & (df_Q1!='Wise') & (df_Q1!='Integrity') & (df_Q1!='Cheerful') & (df_Q1!='Patient') & (df_Q1!='Responsible')] = 'Others'\n",
    "df_Q1"
   ]
  },
  {
   "cell_type": "code",
   "execution_count": 5,
   "metadata": {},
   "outputs": [
    {
     "data": {
      "text/plain": [
       "<matplotlib.axes._subplots.AxesSubplot at 0x7f84a48264d0>"
      ]
     },
     "execution_count": 5,
     "metadata": {},
     "output_type": "execute_result"
    },
    {
     "data": {
      "image/png": "[encoded data removed]",
      "text/plain": [
       "<Figure size 432x288 with 1 Axes>"
      ]
     },
     "metadata": {
      "needs_background": "light"
     },
     "output_type": "display_data"
    }
   ],
   "source": [
    "import matplotlib.pyplot as plt\n",
    "\n",
    "data1 = df_Q1\n",
    "fig, ax = plt.subplots()\n",
    "data1.value_counts().plot(ax=ax, kind='bar')"
   ]
  },
  {
   "cell_type": "code",
   "execution_count": 11,
   "metadata": {},
   "outputs": [
    {
     "data": {
      "text/plain": [
       "0                 Respect\n",
       "1                     能打人\n",
       "2                 Respect\n",
       "3                Cheerful\n",
       "4                      善良\n",
       "              ...        \n",
       "216                money \n",
       "218             Integrity\n",
       "219               Respect\n",
       "220    Unconditional love\n",
       "221           Open-minded\n",
       "Name: 0, Length: 207, dtype: object"
      ]
     },
     "execution_count": 11,
     "metadata": {},
     "output_type": "execute_result"
    }
   ],
   "source": [
    "df_Q2 = np.concatenate([df.Q2_1.values,df.Q2_2.values,df.Q2_3.values])\n",
    "df_Q2 = pd.DataFrame(df_Q2)\n",
    "df_Q2 = df_Q2.iloc[:,0]\n",
    "df_Q2.dropna(inplace=True)\n",
    "df_Q2"
   ]
  },
  {
   "cell_type": "code",
   "execution_count": 12,
   "metadata": {},
   "outputs": [
    {
     "data": {
      "text/plain": [
       "0                 Respect\n",
       "1                  Others\n",
       "2                 Respect\n",
       "3                Cheerful\n",
       "4                  Others\n",
       "              ...        \n",
       "216                Others\n",
       "218             Integrity\n",
       "219               Respect\n",
       "220    Unconditional love\n",
       "221           Open-minded\n",
       "Name: 0, Length: 207, dtype: object"
      ]
     },
     "execution_count": 12,
     "metadata": {},
     "output_type": "execute_result"
    }
   ],
   "source": [
    "df_Q2[(df_Q2!= 'Respect') & (df_Q2!= 'Unconditional love') & (df_Q2!= 'Understanding') & (df_Q2!='Supportive') & (df_Q2!='Forgiveness') & (df_Q2!='Open-minded') & (df_Q2!='Wise') & (df_Q2!='Integrity') & (df_Q2!='Cheerful') & (df_Q2!='Patient') & (df_Q2!='Responsible')] = 'Others'\n",
    "df_Q2"
   ]
  },
  {
   "cell_type": "code",
   "execution_count": 14,
   "metadata": {},
   "outputs": [
    {
     "data": {
      "text/plain": [
       "<matplotlib.axes._subplots.AxesSubplot at 0x7f885373b490>"
      ]
     },
     "execution_count": 14,
     "metadata": {},
     "output_type": "execute_result"
    },
    {
     "data": {
      "image/png": "[encoded data removed]",
      "text/plain": [
       "<Figure size 432x288 with 1 Axes>"
      ]
     },
     "metadata": {
      "needs_background": "light"
     },
     "output_type": "display_data"
    }
   ],
   "source": [
    "data2 = df_Q2\n",
    "fig, ax = plt.subplots()\n",
    "data2.value_counts().plot(ax=ax, kind='bar')"
   ]
  },
  {
   "cell_type": "code",
   "execution_count": 15,
   "metadata": {},
   "outputs": [
    {
     "data": {
      "text/plain": [
       "0     Provide me with food and money\n",
       "1                         Respect me\n",
       "2     Provide me with food and money\n",
       "3                         Respect me\n",
       "4                     Leave me alone\n",
       "                   ...              \n",
       "69                        Respect me\n",
       "70                        Respect me\n",
       "71           Love me unconditionally\n",
       "72           Love me unconditionally\n",
       "73                    Leave me alone\n",
       "Name: Q3, Length: 74, dtype: object"
      ]
     },
     "execution_count": 15,
     "metadata": {},
     "output_type": "execute_result"
    }
   ],
   "source": [
    "df_Q3=df.iloc[:,4]\n",
    "df_Q3"
   ]
  },
  {
   "cell_type": "code",
   "execution_count": 16,
   "metadata": {},
   "outputs": [
    {
     "data": {
      "text/plain": [
       "0     Provide me with food and money\n",
       "1                         Respect me\n",
       "2     Provide me with food and money\n",
       "3                         Respect me\n",
       "4                     Leave me alone\n",
       "                   ...              \n",
       "69                        Respect me\n",
       "70                        Respect me\n",
       "71                            Others\n",
       "72                            Others\n",
       "73                    Leave me alone\n",
       "Name: Q3, Length: 74, dtype: object"
      ]
     },
     "execution_count": 16,
     "metadata": {},
     "output_type": "execute_result"
    }
   ],
   "source": [
    "df_Q3[(df_Q3!= 'Provide me with food and money') & (df_Q3!= 'Leave me alone') & (df_Q3!= 'Respect me') & (df_Q3!='Keep me company') & (df_Q3!='Give me support') & (df_Q2!='Love me unconditionally')] = 'Others'\n",
    "df_Q3"
   ]
  },
  {
   "cell_type": "code",
   "execution_count": 17,
   "metadata": {},
   "outputs": [
    {
     "data": {
      "text/plain": [
       "<matplotlib.axes._subplots.AxesSubplot at 0x7f885432c310>"
      ]
     },
     "execution_count": 17,
     "metadata": {},
     "output_type": "execute_result"
    },
    {
     "data": {
      "image/png": "[encoded data removed]",
      "text/plain": [
       "<Figure size 432x288 with 1 Axes>"
      ]
     },
     "metadata": {
      "needs_background": "light"
     },
     "output_type": "display_data"
    }
   ],
   "source": [
    "data3 = df_Q3\n",
    "fig, ax = plt.subplots()\n",
    "data3.value_counts().plot(ax=ax, kind='bar')"
   ]
  },
  {
   "cell_type": "code",
   "execution_count": 18,
   "metadata": {},
   "outputs": [
    {
     "data": {
      "text/plain": [
       "0                  Interfere excessively\n",
       "1                                Quarrel\n",
       "2     Don’t care about my emotional life\n",
       "3                            没有兴趣爱好方面的交流\n",
       "4                                Quarrel\n",
       "                     ...                \n",
       "69                          Keep nagging\n",
       "70                                   都喜欢\n",
       "71                                Coerce\n",
       "72                 Interfere excessively\n",
       "73                 Interfere excessively\n",
       "Name: Q4, Length: 74, dtype: object"
      ]
     },
     "execution_count": 18,
     "metadata": {},
     "output_type": "execute_result"
    }
   ],
   "source": [
    "df_Q4=df.iloc[:,5]\n",
    "df_Q4"
   ]
  },
  {
   "cell_type": "code",
   "execution_count": 19,
   "metadata": {},
   "outputs": [
    {
     "data": {
      "text/plain": [
       "0     Interfere excessively\n",
       "1                   Quarrel\n",
       "2                    Others\n",
       "3                    Others\n",
       "4                   Quarrel\n",
       "              ...          \n",
       "69             Keep nagging\n",
       "70                   Others\n",
       "71                   Coerce\n",
       "72    Interfere excessively\n",
       "73    Interfere excessively\n",
       "Name: Q4, Length: 74, dtype: object"
      ]
     },
     "execution_count": 19,
     "metadata": {},
     "output_type": "execute_result"
    }
   ],
   "source": [
    "df_Q4[(df_Q4!= 'Interfere excessively') & (df_Q4!= 'Quarrel') & (df_Q4!= 'Close minded') & (df_Q4!='Keep nagging') & (df_Q4!='Coerce')] = 'Others'\n",
    "df_Q4"
   ]
  },
  {
   "cell_type": "code",
   "execution_count": 20,
   "metadata": {},
   "outputs": [
    {
     "data": {
      "text/plain": [
       "<matplotlib.axes._subplots.AxesSubplot at 0x7f883466d950>"
      ]
     },
     "execution_count": 20,
     "metadata": {},
     "output_type": "execute_result"
    },
    {
     "data": {
      "image/png": "[encoded data removed]",
      "text/plain": [
       "<Figure size 432x288 with 1 Axes>"
      ]
     },
     "metadata": {
      "needs_background": "light"
     },
     "output_type": "display_data"
    }
   ],
   "source": [
    "data4 = df_Q4\n",
    "fig, ax = plt.subplots()\n",
    "data4.value_counts().plot(ax=ax, kind='bar')"
   ]
  }
 ],
 "metadata": {
  "kernelspec": {
   "display_name": "Python 3",
   "language": "python",
   "name": "python3"
  },
  "language_info": {
   "codemirror_mode": {
    "name": "ipython",
    "version": 3
   },
   "file_extension": ".py",
   "mimetype": "text/x-python",
   "name": "python",
   "nbconvert_exporter": "python",
   "pygments_lexer": "ipython3",
   "version": "3.7.6"
  },
  "toc": {
   "base_numbering": 1,
   "nav_menu": {},
   "number_sections": true,
   "sideBar": true,
   "skip_h1_title": false,
   "title_cell": "Table of Contents",
   "title_sidebar": "Contents",
   "toc_cell": false,
   "toc_position": {},
   "toc_section_display": true,
   "toc_window_display": false
  }
 },
 "nbformat": 4,
 "nbformat_minor": 4
}
